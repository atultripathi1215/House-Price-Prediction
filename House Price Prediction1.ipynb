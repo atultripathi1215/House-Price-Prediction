{
 "cells": [
  {
   "cell_type": "code",
   "execution_count": 455,
   "id": "88667024",
   "metadata": {
    "scrolled": true
   },
   "outputs": [],
   "source": [
    "import pandas as pd \n",
    "import numpy as np"
   ]
  },
  {
   "cell_type": "code",
   "execution_count": 494,
   "id": "a8d7e008",
   "metadata": {
    "scrolled": true
   },
   "outputs": [],
   "source": [
    "#store Dataframe in train variable\n",
    "train=pd.read_csv(\"train.csv\")\n",
    "\n",
    "#this will help to display upto 90 rows\n",
    "pd.options.display.max_rows=(90)"
   ]
  },
  {
   "cell_type": "code",
   "execution_count": 457,
   "id": "7bd0ebe6",
   "metadata": {
    "scrolled": true
   },
   "outputs": [
    {
     "data": {
      "text/plain": [
       "Id                  0\n",
       "MSSubClass          0\n",
       "MSZoning            0\n",
       "LotFrontage       259\n",
       "LotArea             0\n",
       "Street              0\n",
       "Alley            1369\n",
       "LotShape            0\n",
       "LandContour         0\n",
       "Utilities           0\n",
       "LotConfig           0\n",
       "LandSlope           0\n",
       "Neighborhood        0\n",
       "Condition1          0\n",
       "Condition2          0\n",
       "BldgType            0\n",
       "HouseStyle          0\n",
       "OverallQual         0\n",
       "OverallCond         0\n",
       "YearBuilt           0\n",
       "YearRemodAdd        0\n",
       "RoofStyle           0\n",
       "RoofMatl            0\n",
       "Exterior1st         0\n",
       "Exterior2nd         0\n",
       "MasVnrType          8\n",
       "MasVnrArea          8\n",
       "ExterQual           0\n",
       "ExterCond           0\n",
       "Foundation          0\n",
       "BsmtQual           37\n",
       "BsmtCond           37\n",
       "BsmtExposure       38\n",
       "BsmtFinType1       37\n",
       "BsmtFinSF1          0\n",
       "BsmtFinType2       38\n",
       "BsmtFinSF2          0\n",
       "BsmtUnfSF           0\n",
       "TotalBsmtSF         0\n",
       "Heating             0\n",
       "HeatingQC           0\n",
       "CentralAir          0\n",
       "Electrical          1\n",
       "1stFlrSF            0\n",
       "2ndFlrSF            0\n",
       "LowQualFinSF        0\n",
       "GrLivArea           0\n",
       "BsmtFullBath        0\n",
       "BsmtHalfBath        0\n",
       "FullBath            0\n",
       "HalfBath            0\n",
       "BedroomAbvGr        0\n",
       "KitchenAbvGr        0\n",
       "KitchenQual         0\n",
       "TotRmsAbvGrd        0\n",
       "Functional          0\n",
       "Fireplaces          0\n",
       "FireplaceQu       690\n",
       "GarageType         81\n",
       "GarageYrBlt        81\n",
       "GarageFinish       81\n",
       "GarageCars          0\n",
       "GarageArea          0\n",
       "GarageQual         81\n",
       "GarageCond         81\n",
       "PavedDrive          0\n",
       "WoodDeckSF          0\n",
       "OpenPorchSF         0\n",
       "EnclosedPorch       0\n",
       "3SsnPorch           0\n",
       "ScreenPorch         0\n",
       "PoolArea            0\n",
       "PoolQC           1453\n",
       "Fence            1179\n",
       "MiscFeature      1406\n",
       "MiscVal             0\n",
       "MoSold              0\n",
       "YrSold              0\n",
       "SaleType            0\n",
       "SaleCondition       0\n",
       "SalePrice           0\n",
       "dtype: int64"
      ]
     },
     "execution_count": 457,
     "metadata": {},
     "output_type": "execute_result"
    }
   ],
   "source": [
    "#sum of all null values\n",
    "train.isnull().sum()"
   ]
  },
  {
   "cell_type": "code",
   "execution_count": 458,
   "id": "bf595444",
   "metadata": {
    "scrolled": true
   },
   "outputs": [],
   "source": [
    "#Drop useless columns\n",
    "train.drop([\"Alley\",\"MiscFeature\",\"Fence\",\"PoolQC\",\"FireplaceQu\"],inplace=True,axis=1)"
   ]
  },
  {
   "cell_type": "code",
   "execution_count": 461,
   "id": "e206e013",
   "metadata": {},
   "outputs": [],
   "source": [
    "#filling null values with the help of mode \n",
    "train[\"LotFrontage\"]=train[\"LotFrontage\"].fillna(train[\"LotFrontage\"].mode()[0])\n",
    "train[\"BsmtQual\"]=train[\"BsmtQual\"].fillna(train[\"BsmtQual\"].mode()[0])\n",
    "train[\"BsmtCond\"]=train[\"BsmtCond\"].fillna(train[\"BsmtCond\"].mode()[0])\n",
    "train[\"BsmtExposure\"]=train[\"BsmtExposure\"].fillna(train[\"BsmtExposure\"].mode()[0])\n",
    "train[\"BsmtFinType2\"]=train[\"BsmtFinType2\"].fillna(train[\"BsmtFinType2\"].mode()[0])\n",
    "train[\"Electrical\"]=train[\"Electrical\"].fillna(train[\"Electrical\"].mode()[0])\n",
    "train[\"GarageType\"]=train[\"GarageType\"].fillna(train[\"GarageType\"].mode()[0])\n",
    "train[\"GarageYrBlt\"]=train[\"GarageYrBlt\"].fillna(train[\"GarageYrBlt\"].mode()[0])\n",
    "train[\"GarageFinish\"]=train[\"GarageFinish\"].fillna(train[\"GarageFinish\"].mode()[0])\n",
    "train[\"GarageQual\"]=train[\"GarageQual\"].fillna(train[\"GarageQual\"].mode()[0])\n",
    "train[\"GarageCond\"]=train[\"GarageCond\"].fillna(train[\"GarageCond\"].mode()[0])\n",
    "train[\"BsmtFinType1\"]=train[\"BsmtFinType1\"].fillna(train[\"BsmtFinType1\"].mode()[0])\n",
    "train[\"MasVnrType\"]=train[\"MasVnrType\"].fillna(train[\"MasVnrType\"].mode()[0])\n",
    "train[\"MasVnrArea\"]=train[\"MasVnrArea\"].fillna(train[\"MasVnrArea\"].mode()[0])"
   ]
  },
  {
   "cell_type": "code",
   "execution_count": 462,
   "id": "ea2eb55a",
   "metadata": {},
   "outputs": [
    {
     "data": {
      "text/plain": [
       "Id               0\n",
       "MSSubClass       0\n",
       "MSZoning         0\n",
       "LotFrontage      0\n",
       "LotArea          0\n",
       "Street           0\n",
       "LotShape         0\n",
       "LandContour      0\n",
       "Utilities        0\n",
       "LotConfig        0\n",
       "LandSlope        0\n",
       "Neighborhood     0\n",
       "Condition1       0\n",
       "Condition2       0\n",
       "BldgType         0\n",
       "HouseStyle       0\n",
       "OverallQual      0\n",
       "OverallCond      0\n",
       "YearBuilt        0\n",
       "YearRemodAdd     0\n",
       "RoofStyle        0\n",
       "RoofMatl         0\n",
       "Exterior1st      0\n",
       "Exterior2nd      0\n",
       "MasVnrType       0\n",
       "MasVnrArea       0\n",
       "ExterQual        0\n",
       "ExterCond        0\n",
       "Foundation       0\n",
       "BsmtQual         0\n",
       "BsmtCond         0\n",
       "BsmtExposure     0\n",
       "BsmtFinType1     0\n",
       "BsmtFinSF1       0\n",
       "BsmtFinType2     0\n",
       "BsmtFinSF2       0\n",
       "BsmtUnfSF        0\n",
       "TotalBsmtSF      0\n",
       "Heating          0\n",
       "HeatingQC        0\n",
       "CentralAir       0\n",
       "Electrical       0\n",
       "1stFlrSF         0\n",
       "2ndFlrSF         0\n",
       "LowQualFinSF     0\n",
       "GrLivArea        0\n",
       "BsmtFullBath     0\n",
       "BsmtHalfBath     0\n",
       "FullBath         0\n",
       "HalfBath         0\n",
       "BedroomAbvGr     0\n",
       "KitchenAbvGr     0\n",
       "KitchenQual      0\n",
       "TotRmsAbvGrd     0\n",
       "Functional       0\n",
       "Fireplaces       0\n",
       "GarageType       0\n",
       "GarageYrBlt      0\n",
       "GarageFinish     0\n",
       "GarageCars       0\n",
       "GarageArea       0\n",
       "GarageQual       0\n",
       "GarageCond       0\n",
       "PavedDrive       0\n",
       "WoodDeckSF       0\n",
       "OpenPorchSF      0\n",
       "EnclosedPorch    0\n",
       "3SsnPorch        0\n",
       "ScreenPorch      0\n",
       "PoolArea         0\n",
       "MiscVal          0\n",
       "MoSold           0\n",
       "YrSold           0\n",
       "SaleType         0\n",
       "SaleCondition    0\n",
       "SalePrice        0\n",
       "dtype: int64"
      ]
     },
     "execution_count": 462,
     "metadata": {},
     "output_type": "execute_result"
    }
   ],
   "source": [
    "train.isnull().sum()"
   ]
  },
  {
   "cell_type": "code",
   "execution_count": 493,
   "id": "ad64b0fc",
   "metadata": {},
   "outputs": [],
   "source": [
    "#finding which column are haveing object data type  \n",
    "train_cols=[]\n",
    "for i in train.columns:\n",
    "    if train[i].dtype == object:\n",
    "        train_cols.append(i)"
   ]
  },
  {
   "cell_type": "code",
   "execution_count": 467,
   "id": "7ce1c62b",
   "metadata": {},
   "outputs": [
    {
     "data": {
      "text/plain": [
       "(1460, 76)"
      ]
     },
     "execution_count": 467,
     "metadata": {},
     "output_type": "execute_result"
    }
   ],
   "source": [
    "#change character so ML  model can understand \n",
    "from sklearn.preprocessing import LabelEncoder\n",
    "le = LabelEncoder()\n",
    "train[train_cols] = train[train_cols].apply(LabelEncoder().fit_transform)\n",
    "train.shape\n",
    "train.shape"
   ]
  },
  {
   "cell_type": "code",
   "execution_count": 495,
   "id": "054da4df",
   "metadata": {},
   "outputs": [],
   "source": [
    "#separate dipendent and indipendent variable\n",
    "X=train.drop([\"SalePrice\"],axis=1)\n",
    "y=train[\"SalePrice\"]"
   ]
  },
  {
   "cell_type": "code",
   "execution_count": 472,
   "id": "2a156308",
   "metadata": {},
   "outputs": [],
   "source": [
    "\n",
    "from sklearn.model_selection import train_test_split\n",
    "x_train,x_test,y_train,y_test=train_test_split(X,y,test_size=.25,random_state=40)"
   ]
  },
  {
   "cell_type": "code",
   "execution_count": 496,
   "id": "b5c9790a",
   "metadata": {},
   "outputs": [],
   "source": [
    "from sklearn.svm import SVR\n",
    "regressor = SVR(kernel = 'linear')\n",
    "regressor.fit(x_train, y_train)\n",
    "pred1=regressor.predict(x_test)"
   ]
  },
  {
   "cell_type": "code",
   "execution_count": 497,
   "id": "6cff5434",
   "metadata": {},
   "outputs": [],
   "source": [
    "from sklearn.metrics import r2_score"
   ]
  },
  {
   "cell_type": "code",
   "execution_count": 499,
   "id": "bffde788",
   "metadata": {},
   "outputs": [
    {
     "name": "stdout",
     "output_type": "stream",
     "text": [
      "Our model is 81.26026525052484% accurate\n"
     ]
    }
   ],
   "source": [
    "accuracy=r2_score(y_test,pred1)\n",
    "print(f\"Our model is {accuracy*100}% accurate\")"
   ]
  },
  {
   "cell_type": "code",
   "execution_count": 489,
   "id": "a9ae6968",
   "metadata": {},
   "outputs": [],
   "source": []
  },
  {
   "cell_type": "code",
   "execution_count": null,
   "id": "5fd38e6c",
   "metadata": {},
   "outputs": [],
   "source": []
  }
 ],
 "metadata": {
  "kernelspec": {
   "display_name": "Python 3 (ipykernel)",
   "language": "python",
   "name": "python3"
  },
  "language_info": {
   "codemirror_mode": {
    "name": "ipython",
    "version": 3
   },
   "file_extension": ".py",
   "mimetype": "text/x-python",
   "name": "python",
   "nbconvert_exporter": "python",
   "pygments_lexer": "ipython3",
   "version": "3.9.12"
  }
 },
 "nbformat": 4,
 "nbformat_minor": 5
}
